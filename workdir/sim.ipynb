{
 "cells": [
  {
   "cell_type": "code",
   "execution_count": 1,
   "id": "01a0605b-86ae-47bf-aa69-795cdd5f95fe",
   "metadata": {},
   "outputs": [],
   "source": [
    "import numpy as np\n",
    "import tqdm\n",
    "from IPython.display import HTML, display\n",
    "import json"
   ]
  },
  {
   "cell_type": "code",
   "execution_count": 2,
   "id": "c085cfd1",
   "metadata": {},
   "outputs": [
    {
     "name": "stdout",
     "output_type": "stream",
     "text": [
      "{'Real Madrid': {'nation': 'Spain', 'coefficient': 136.0, 'pot': 1}, 'Manchester City': {'nation': 'England', 'coefficient': 148.0, 'pot': 1}, 'Bayern Munich': {'nation': 'Germany', 'coefficient': 144.0, 'pot': 1}, 'Paris Saint-Germain': {'nation': 'France', 'coefficient': 116.0, 'pot': 1}, 'Liverpool': {'nation': 'England', 'coefficient': 114.0, 'pot': 1}, 'Inter': {'nation': 'Italy', 'coefficient': 101.0, 'pot': 1}, 'Borussia Dortmund': {'nation': 'Germany', 'coefficient': 97.0, 'pot': 1}, 'RB Leipzig': {'nation': 'Germany', 'coefficient': 97.0, 'pot': 1}, 'Barcelona': {'nation': 'Spain', 'coefficient': 91.0, 'pot': 1}, 'Bayer Leverkusen': {'nation': 'Germany', 'coefficient': 90.0, 'pot': 2}, 'Atlético Madrid': {'nation': 'Spain', 'coefficient': 89.0, 'pot': 2}, 'Atalanta': {'nation': 'Italy', 'coefficient': 81.0, 'pot': 2}, 'Juventus': {'nation': 'Italy', 'coefficient': 80.0, 'pot': 2}, 'Benfica': {'nation': 'Portugal', 'coefficient': 79.0, 'pot': 2}, 'Arsenal': {'nation': 'England', 'coefficient': 72.0, 'pot': 2}, 'Club Brugge': {'nation': 'Belgium', 'coefficient': 64.0, 'pot': 2}, 'Shakhtar Donetsk': {'nation': 'Ukraine', 'coefficient': 63.0, 'pot': 2}, 'Milan': {'nation': 'Italy', 'coefficient': 59.0, 'pot': 2}, 'Feyenoord': {'nation': 'Netherlands', 'coefficient': 57.0, 'pot': 3}, 'Sporting CP': {'nation': 'Portugal', 'coefficient': 54.5, 'pot': 3}, 'PSV Eindhoven': {'nation': 'Netherlands', 'coefficient': 54.0, 'pot': 3}, 'Dinamo Zagreb': {'nation': 'Croatia', 'coefficient': 50.0, 'pot': 3}, 'Red Bull Salzburg': {'nation': 'Austria', 'coefficient': 50.0, 'pot': 3}, 'Lille': {'nation': 'France', 'coefficient': 47.0, 'pot': 3}, 'Red Star Belgrade': {'nation': 'Serbia', 'coefficient': 40.0, 'pot': 3}, 'Young Boys': {'nation': 'Switzerland', 'coefficient': 34.5, 'pot': 3}, 'Celtic': {'nation': 'Scotland', 'coefficient': 32.0, 'pot': 3}, 'Slovan Bratislava': {'nation': 'Slovakia', 'coefficient': 30.5, 'pot': 4}, 'Monaco': {'nation': 'France', 'coefficient': 24.0, 'pot': 4}, 'Sparta Prague': {'nation': 'Czech Republic', 'coefficient': 22.5, 'pot': 4}, 'Aston Villa': {'nation': 'England', 'coefficient': 20.86, 'pot': 4}, 'Bologna': {'nation': 'Italy', 'coefficient': 18.056, 'pot': 4}, 'Girona': {'nation': 'Spain', 'coefficient': 17.897, 'pot': 4}, 'VfB Stuttgart': {'nation': 'Germany', 'coefficient': 17.324, 'pot': 4}, 'Sturm Graz': {'nation': 'Austria', 'coefficient': 14.5, 'pot': 4}, 'Brest': {'nation': 'France', 'coefficient': 13.366, 'pot': 4}}\n"
     ]
    }
   ],
   "source": [
    "teams = json.load(open('teams.json'))\n",
    "print(teams)"
   ]
  },
  {
   "cell_type": "code",
   "execution_count": 4,
   "id": "94306d7f",
   "metadata": {},
   "outputs": [
    {
     "name": "stdout",
     "output_type": "stream",
     "text": [
      "Number of matches: 144\n"
     ]
    }
   ],
   "source": [
    "matches = json.load(open('matches.json'))\n",
    "\n",
    "print(f\"Number of matches: {len(matches)}\")\n",
    "\n",
    "for match in matches:\n",
    "    if len(match) != 4:\n",
    "        print(\"EERRROR\", match)\n",
    "\n",
    "for team in teams.keys():\n",
    "    home = []\n",
    "    away = []\n",
    "    for match in matches:\n",
    "        if team == match[1]:\n",
    "            home.append(match[0])\n",
    "        elif team == match[2]:\n",
    "            away.append(match[0])\n",
    "    if len(set(home)) != 4:\n",
    "        print(\"ERROR home\", team, home)\n",
    "\n",
    "    if len(set(away)) != 4:\n",
    "        print(\"ERROR away\", team, away)"
   ]
  },
  {
   "cell_type": "code",
   "execution_count": 5,
   "id": "48d8add6",
   "metadata": {},
   "outputs": [],
   "source": [
    "def coeff_based_prob(team1, team2):\n",
    "    team1_coef = team1[\"coefficient\"]\n",
    "    team2_coef = team2[\"coefficient\"]\n",
    "    p = [\n",
    "        team1_coef / (team1_coef + team2_coef),\n",
    "        1 / (team1_coef + team2_coef),\n",
    "        team2_coef / (team1_coef + team2_coef),\n",
    "    ]\n",
    "    p = [x / sum(p) for x in p]\n",
    "\n",
    "    return p"
   ]
  },
  {
   "cell_type": "code",
   "execution_count": 36,
   "id": "11a18e86",
   "metadata": {},
   "outputs": [],
   "source": [
    "def simulate_match(p=0.5):\n",
    "    result = np.random.choice([\"win\", \"draw\", \"lose\"], p=p)\n",
    "\n",
    "    if result == \"win\":\n",
    "        return 3, 0\n",
    "    elif result == \"draw\":\n",
    "        return 1, 1\n",
    "    else:\n",
    "        return 0, 3\n",
    "\n",
    "\n",
    "def simulate_matches(teams, matches, p_fn=coeff_based_prob):\n",
    "    classification = {t: {\"pts\": 0, \"sim\": 0, \"real\": 0} for t in teams}\n",
    "\n",
    "    for match in matches:\n",
    "        _, home, away, result = match\n",
    "        # print(home, away, result)\n",
    "\n",
    "        if result is None:\n",
    "            p = p_fn(teams[home], teams[away])\n",
    "            score1, score2 = simulate_match(p=p)\n",
    "            classification[home][\"sim\"] += 1\n",
    "            classification[away][\"sim\"] += 1\n",
    "        else:\n",
    "            h, a = [int(x) for x in result.split(\"-\")]\n",
    "            if h > a:\n",
    "                score1, score2 = 3, 0\n",
    "            elif h == a:\n",
    "                score1, score2 = 1, 1\n",
    "            else:\n",
    "                score1, score2 = 0, 3\n",
    "\n",
    "            classification[home][\"real\"] += 1\n",
    "            classification[away][\"real\"] += 1\n",
    "\n",
    "        classification[home][\"pts\"] += score1\n",
    "        classification[away][\"pts\"] += score2\n",
    "    return classification\n",
    "\n",
    "\n",
    "def simulate(runs, teams, matches, p_fn=coeff_based_prob):\n",
    "    aggregate_results = {\n",
    "        t: {\"avg\": None, \"top\": None, \"bottom\": None, \"sim\": 0, \"real\": 0}\n",
    "        for t in teams\n",
    "    }\n",
    "\n",
    "    for i in tqdm.tqdm(range(runs)):\n",
    "        results_dict = simulate_matches(teams, matches, p_fn)\n",
    "\n",
    "        results = [\n",
    "            (\n",
    "                r,\n",
    "                *[\n",
    "                    results_dict[r][\"pts\"],\n",
    "                    results_dict[r][\"sim\"],\n",
    "                    results_dict[r][\"real\"],\n",
    "                ],\n",
    "            )\n",
    "            for r in results_dict\n",
    "        ]\n",
    "\n",
    "        results.sort(key=lambda x: x[1], reverse=True)\n",
    "        for i, (t, p, sim, real) in enumerate(results):\n",
    "            if aggregate_results[t][\"avg\"] is None:\n",
    "                aggregate_results[t][\"avg\"] = p / runs\n",
    "            else:\n",
    "                aggregate_results[t][\"avg\"] += p / runs\n",
    "            if (\n",
    "                aggregate_results[t][\"top\"] is None\n",
    "                or i + 1 > aggregate_results[t][\"top\"]\n",
    "            ):\n",
    "                aggregate_results[t][\"top\"] = i + 1\n",
    "            if (\n",
    "                aggregate_results[t][\"bottom\"] is None\n",
    "                or i + 1 < aggregate_results[t][\"bottom\"]\n",
    "            ):\n",
    "                aggregate_results[t][\"bottom\"] = i + 1\n",
    "\n",
    "            aggregate_results[t][\"sim\"] = sim\n",
    "            aggregate_results[t][\"real\"] = real\n",
    "\n",
    "\n",
    "    results = [\n",
    "        (\n",
    "            t,\n",
    "            aggregate_results[t][\"avg\"],\n",
    "            aggregate_results[t][\"top\"],\n",
    "            aggregate_results[t][\"bottom\"],\n",
    "            aggregate_results[t][\"sim\"],\n",
    "            aggregate_results[t][\"real\"],\n",
    "        )\n",
    "        for t in aggregate_results\n",
    "    ]\n",
    "\n",
    "    results.sort(key=lambda x: x[1], reverse=True)\n",
    "    return results"
   ]
  },
  {
   "cell_type": "code",
   "execution_count": 46,
   "id": "6e97c128",
   "metadata": {},
   "outputs": [],
   "source": [
    "def print_results(results):\n",
    "    rows = []\n",
    "    for i, (t, avg, worst, top, sim, real) in enumerate(results):\n",
    "        pos = i + 1\n",
    "        row = [pos, t, round(avg), top, worst, sim, real, \"#000\"]\n",
    "\n",
    "        if pos >= 25:\n",
    "            row[-1] = \"#E3735E\"\n",
    "        elif i >= 8:\n",
    "            row[-1] = \"#FFBF00\"\n",
    "        rows.append(row)\n",
    "\n",
    "    content = \"\".join(\n",
    "        [\n",
    "            f\"<tr><td style='color:{row[-1]}'>{row[0]}</td>{''.join(['<td>'+str(r)+'</td>' for r in row[1:-1]])}</tr>\"\n",
    "            for row in rows\n",
    "        ]\n",
    "    )\n",
    "\n",
    "    display(\n",
    "        HTML(\n",
    "            f\"<table><tr><th>Pos</th><th>Team</th><th>Points</th><th>Best Placement</th><th>Worst Placement</th><th>Simulated</th><th>Played</th></tr>{content}</table>\"\n",
    "        )\n",
    "    )"
   ]
  },
  {
   "cell_type": "code",
   "execution_count": 52,
   "id": "03452eb9",
   "metadata": {},
   "outputs": [
    {
     "name": "stderr",
     "output_type": "stream",
     "text": [
      "100%|██████████| 10000/10000 [00:12<00:00, 806.33it/s]\n"
     ]
    }
   ],
   "source": [
    "runs = 10_000\n",
    "\n",
    "results = simulate(runs, teams, matches, p_fn=coeff_based_prob)"
   ]
  },
  {
   "cell_type": "code",
   "execution_count": 53,
   "id": "586a9c3f",
   "metadata": {},
   "outputs": [
    {
     "data": {
      "text/html": [
       "<table><tr><th>Pos</th><th>Team</th><th>Points</th><th>Best</th><th>Worst</th><th>Simulated</th><th>Played</th></tr><tr><td style='color:#000'>1</td><td>Bayern Munich</td><td>18</td><td>1</td><td>34</td><td>7</td><td>1</td></tr><tr><td style='color:#000'>2</td><td>Real Madrid</td><td>17</td><td>1</td><td>34</td><td>7</td><td>1</td></tr><tr><td style='color:#000'>3</td><td>Liverpool</td><td>17</td><td>1</td><td>35</td><td>7</td><td>1</td></tr><tr><td style='color:#000'>4</td><td>Borussia Dortmund</td><td>17</td><td>1</td><td>35</td><td>7</td><td>1</td></tr><tr><td style='color:#000'>5</td><td>Manchester City</td><td>16</td><td>1</td><td>36</td><td>7</td><td>1</td></tr><tr><td style='color:#000'>6</td><td>Atlético Madrid</td><td>16</td><td>1</td><td>35</td><td>7</td><td>1</td></tr><tr><td style='color:#000'>7</td><td>Bayer Leverkusen</td><td>16</td><td>1</td><td>35</td><td>7</td><td>1</td></tr><tr><td style='color:#000'>8</td><td>Paris Saint-Germain</td><td>16</td><td>1</td><td>36</td><td>7</td><td>1</td></tr><tr><td style='color:#FFBF00'>9</td><td>Juventus</td><td>15</td><td>1</td><td>36</td><td>7</td><td>1</td></tr><tr><td style='color:#FFBF00'>10</td><td>Inter</td><td>15</td><td>1</td><td>36</td><td>7</td><td>1</td></tr><tr><td style='color:#FFBF00'>11</td><td>Benfica</td><td>15</td><td>1</td><td>35</td><td>7</td><td>1</td></tr><tr><td style='color:#FFBF00'>12</td><td>Atalanta</td><td>14</td><td>1</td><td>36</td><td>7</td><td>1</td></tr><tr><td style='color:#FFBF00'>13</td><td>RB Leipzig</td><td>14</td><td>1</td><td>36</td><td>7</td><td>1</td></tr><tr><td style='color:#FFBF00'>14</td><td>Sporting CP</td><td>14</td><td>1</td><td>36</td><td>7</td><td>1</td></tr><tr><td style='color:#FFBF00'>15</td><td>Arsenal</td><td>13</td><td>1</td><td>36</td><td>7</td><td>1</td></tr><tr><td style='color:#FFBF00'>16</td><td>Barcelona</td><td>13</td><td>1</td><td>36</td><td>7</td><td>1</td></tr><tr><td style='color:#FFBF00'>17</td><td>Club Brugge</td><td>12</td><td>1</td><td>36</td><td>7</td><td>1</td></tr><tr><td style='color:#FFBF00'>18</td><td>Shakhtar Donetsk</td><td>12</td><td>1</td><td>36</td><td>7</td><td>1</td></tr><tr><td style='color:#FFBF00'>19</td><td>Milan</td><td>11</td><td>1</td><td>36</td><td>7</td><td>1</td></tr><tr><td style='color:#FFBF00'>20</td><td>PSV Eindhoven</td><td>11</td><td>1</td><td>36</td><td>7</td><td>1</td></tr><tr><td style='color:#FFBF00'>21</td><td>Dinamo Zagreb</td><td>11</td><td>1</td><td>36</td><td>7</td><td>1</td></tr><tr><td style='color:#FFBF00'>22</td><td>Celtic</td><td>11</td><td>1</td><td>36</td><td>7</td><td>1</td></tr><tr><td style='color:#FFBF00'>23</td><td>Feyenoord</td><td>11</td><td>1</td><td>36</td><td>7</td><td>1</td></tr><tr><td style='color:#FFBF00'>24</td><td>Monaco</td><td>10</td><td>1</td><td>36</td><td>7</td><td>1</td></tr><tr><td style='color:#E3735E'>25</td><td>Red Star Belgrade</td><td>10</td><td>2</td><td>36</td><td>7</td><td>1</td></tr><tr><td style='color:#E3735E'>26</td><td>Lille</td><td>10</td><td>1</td><td>36</td><td>7</td><td>1</td></tr><tr><td style='color:#E3735E'>27</td><td>Sparta Prague</td><td>10</td><td>1</td><td>36</td><td>7</td><td>1</td></tr><tr><td style='color:#E3735E'>28</td><td>Aston Villa</td><td>9</td><td>1</td><td>36</td><td>7</td><td>1</td></tr><tr><td style='color:#E3735E'>29</td><td>Red Bull Salzburg</td><td>9</td><td>1</td><td>36</td><td>7</td><td>1</td></tr><tr><td style='color:#E3735E'>30</td><td>Young Boys</td><td>8</td><td>2</td><td>36</td><td>7</td><td>1</td></tr><tr><td style='color:#E3735E'>31</td><td>Slovan Bratislava</td><td>8</td><td>3</td><td>36</td><td>7</td><td>1</td></tr><tr><td style='color:#E3735E'>32</td><td>Brest</td><td>7</td><td>2</td><td>36</td><td>7</td><td>1</td></tr><tr><td style='color:#E3735E'>33</td><td>Bologna</td><td>7</td><td>1</td><td>36</td><td>7</td><td>1</td></tr><tr><td style='color:#E3735E'>34</td><td>Girona</td><td>6</td><td>2</td><td>36</td><td>7</td><td>1</td></tr><tr><td style='color:#E3735E'>35</td><td>VfB Stuttgart</td><td>6</td><td>3</td><td>36</td><td>7</td><td>1</td></tr><tr><td style='color:#E3735E'>36</td><td>Sturm Graz</td><td>4</td><td>3</td><td>36</td><td>7</td><td>1</td></tr></table>"
      ],
      "text/plain": [
       "<IPython.core.display.HTML object>"
      ]
     },
     "metadata": {},
     "output_type": "display_data"
    }
   ],
   "source": [
    "print_results(results)"
   ]
  },
  {
   "cell_type": "code",
   "execution_count": null,
   "id": "e5f01dfc",
   "metadata": {},
   "outputs": [],
   "source": []
  },
  {
   "cell_type": "code",
   "execution_count": null,
   "id": "45ca2fde",
   "metadata": {},
   "outputs": [],
   "source": []
  }
 ],
 "metadata": {
  "kernelspec": {
   "display_name": "Python 3 (ipykernel)",
   "language": "python",
   "name": "python3"
  },
  "language_info": {
   "codemirror_mode": {
    "name": "ipython",
    "version": 3
   },
   "file_extension": ".py",
   "mimetype": "text/x-python",
   "name": "python",
   "nbconvert_exporter": "python",
   "pygments_lexer": "ipython3",
   "version": "3.11.6"
  }
 },
 "nbformat": 4,
 "nbformat_minor": 5
}
