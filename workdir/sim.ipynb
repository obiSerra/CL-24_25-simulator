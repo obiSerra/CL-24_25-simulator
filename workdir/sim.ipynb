{
 "cells": [
  {
   "cell_type": "code",
   "execution_count": 5,
   "id": "01a0605b-86ae-47bf-aa69-795cdd5f95fe",
   "metadata": {},
   "outputs": [],
   "source": [
    "import json\n",
    "from pprint import pp\n",
    "\n",
    "import numpy as np\n",
    "import pandas as pd\n",
    "import tqdm\n",
    "from IPython.display import HTML, display"
   ]
  },
  {
   "cell_type": "code",
   "execution_count": 17,
   "id": "c085cfd1",
   "metadata": {},
   "outputs": [],
   "source": [
    "teams = json.load(open('teams.json'))\n",
    "teams = {name: {\"name\": name, **data} for name, data in teams.items()}\n",
    "# pp(teams)"
   ]
  },
  {
   "cell_type": "code",
   "execution_count": 18,
   "id": "94306d7f",
   "metadata": {},
   "outputs": [
    {
     "name": "stdout",
     "output_type": "stream",
     "text": [
      "Number of matches: 144\n"
     ]
    }
   ],
   "source": [
    "matches = json.load(open('matches.json'))\n",
    "\n",
    "print(f\"Number of matches: {len(matches)}\")\n",
    "\n",
    "for match in matches:\n",
    "    if len(match) != 4:\n",
    "        print(\"EERRROR\", match)\n",
    "\n",
    "for team in teams.keys():\n",
    "    home = []\n",
    "    away = []\n",
    "    for match in matches:\n",
    "        if team == match[1]:\n",
    "            home.append(match[0])\n",
    "        elif team == match[2]:\n",
    "            away.append(match[0])\n",
    "    if len(set(home)) != 4:\n",
    "        print(\"ERROR home\", team, home)\n",
    "\n",
    "    if len(set(away)) != 4:\n",
    "        print(\"ERROR away\", team, away)"
   ]
  },
  {
   "cell_type": "code",
   "execution_count": 48,
   "id": "48d8add6",
   "metadata": {},
   "outputs": [],
   "source": [
    "def coeff_based_prob(team1, team2):\n",
    "    team1_coef = team1[\"coefficient\"]\n",
    "    team2_coef = team2[\"coefficient\"]\n",
    "    p = [\n",
    "        team1_coef / (team1_coef + team2_coef),\n",
    "        1 / (team1_coef + team2_coef),\n",
    "        team2_coef / (team1_coef + team2_coef),\n",
    "    ]\n",
    "    p = [x / sum(p) for x in p]\n",
    "\n",
    "    return p\n",
    "\n",
    "def coeff_win_prob(team1, team2):\n",
    "    team1_coef = team1[\"coefficient\"]\n",
    "    team2_coef = team2[\"coefficient\"]\n",
    "    p = [\n",
    "        team1_coef / (team1_coef + team2_coef),\n",
    "        team2_coef / (team1_coef + team2_coef),\n",
    "    ]\n",
    "    p = [x / sum(p) for x in p]\n",
    "\n",
    "    return p\n",
    "\n",
    "def simulate_goals(p):\n",
    "    goals = [0, 0]\n",
    "    for i in range(2):\n",
    "        goals[i] = np.random.poisson(3 * p[i])\n",
    "    return goals\n",
    "\n",
    "def coeff_pper_match_factory(matches):\n",
    "    def coeff_pper_match(team1, team2):\n",
    "\n",
    "        on_win = 3\n",
    "        on_draw = 1\n",
    "        away_mod = 1.1\n",
    "        t1_matches = [m for m in matches if (m[1] == team1['name'] or m[2] == team1['name']) and m[-1] is not None]\n",
    "        t1_coef = 0\n",
    "        for m in t1_matches:\n",
    "            goals_h, goals_a = [int(x) for x in m[-1].split(\"-\")]\n",
    "            if m[1] == team1['name']:\n",
    "                if goals_h > goals_a:\n",
    "                    t1_coef += on_win\n",
    "                elif goals_h == goals_a:\n",
    "                    t1_coef += on_draw\n",
    "            else:\n",
    "                if goals_a > goals_h:\n",
    "                    t1_coef += on_win * away_mod\n",
    "                elif goals_a == goals_h:\n",
    "                    t1_coef += on_draw * away_mod\n",
    "\n",
    "        t1_coef = t1_coef / len(t1_matches)\n",
    "\n",
    "        t2_matches = [m for m in matches if (m[1] == team2['name'] or m[2] == team2['name']) and m[-1] is not None]\n",
    "        t2_coef = 0\n",
    "\n",
    "        for m in t2_matches:\n",
    "            goals_h, goals_a = [int(x) for x in m[-1].split(\"-\")]\n",
    "            if m[1] == team2['name']:\n",
    "                if goals_h > goals_a:\n",
    "                    t2_coef += on_win\n",
    "                elif goals_h == goals_a:\n",
    "                    t2_coef += on_draw\n",
    "            else:\n",
    "                if goals_a > goals_h:\n",
    "                    t2_coef += on_win * away_mod\n",
    "                elif goals_a == goals_h:\n",
    "                    t2_coef += on_draw * away_mod\n",
    "        t2_coef = t2_coef / len(t2_matches)\n",
    "\n",
    "        if t1_coef == 0 and t2_coef == 0:\n",
    "            return [0.5, 0.5]\n",
    "        \n",
    "        p = [\n",
    "            t1_coef / (t1_coef + t2_coef),\n",
    "            t2_coef / (t1_coef + t2_coef),\n",
    "        ]\n",
    "        p = [x / sum(p) for x in p]\n",
    "        return p\n",
    "    return coeff_pper_match\n"
   ]
  },
  {
   "cell_type": "code",
   "execution_count": 49,
   "id": "11a18e86",
   "metadata": {},
   "outputs": [],
   "source": [
    "def simulate_match(p=0.5):\n",
    "    result = np.random.choice([\"win\", \"draw\", \"lose\"], p=p)\n",
    "\n",
    "    if result == \"win\":\n",
    "        return 3, 0\n",
    "    elif result == \"draw\":\n",
    "        return 1, 1\n",
    "    else:\n",
    "        return 0, 3\n",
    "\n",
    "\n",
    "def sort_standing(df):\n",
    "    df.sort_values([\"Points\", \"Goals Done\", \"Goals Conceded\"], ascending=[False, False, True], inplace=True)\n",
    "    return df\n",
    "\n",
    "def simulate_matches(teams, matches, p_fn=coeff_win_prob, up_to=None):\n",
    "    classification = {\n",
    "        t: {\"pts\": 0, \"sim\": 0, \"real\": 0, \"g_done\": 0, \"g_conc\": 0} for t in teams\n",
    "    }\n",
    "    matches.sort(key=lambda x: x[0])\n",
    "\n",
    "    for match in matches:\n",
    "\n",
    "        turn, home, away, result = match\n",
    "        if up_to is not None and turn > up_to:\n",
    "            break\n",
    "\n",
    "        if result is None:\n",
    "            p = p_fn(teams[home], teams[away])\n",
    "            goals_h, goals_a = simulate_goals(p=p)\n",
    "\n",
    "            classification[home][\"sim\"] += 1\n",
    "            classification[away][\"sim\"] += 1\n",
    "        else:\n",
    "            goals_h, goals_a = [int(x) for x in result.split(\"-\")]\n",
    "\n",
    "            classification[home][\"real\"] += 1\n",
    "            classification[away][\"real\"] += 1\n",
    "\n",
    "        if goals_h > goals_a:\n",
    "            score1, score2 = 3, 0\n",
    "        elif goals_h == goals_a:\n",
    "            score1, score2 = 1, 1\n",
    "        else:\n",
    "            score1, score2 = 0, 3\n",
    "\n",
    "        classification[home][\"g_done\"] += goals_h\n",
    "        classification[home][\"g_conc\"] += goals_a\n",
    "        classification[away][\"g_done\"] += goals_a\n",
    "        classification[away][\"g_conc\"] += goals_h\n",
    "\n",
    "        classification[home][\"pts\"] += score1\n",
    "        classification[away][\"pts\"] += score2\n",
    "    return classification\n",
    "\n",
    "\n",
    "def simulate(runs, teams, matches, p_fn=coeff_win_prob, up_to=None):\n",
    "\n",
    "    rows = []\n",
    "    for _ in tqdm.tqdm(range(runs)):\n",
    "        results_dict = simulate_matches(teams, matches, p_fn, up_to)\n",
    "        for r in results_dict:\n",
    "            rows.append(\n",
    "                [\n",
    "                    r,\n",
    "                    results_dict[r][\"pts\"],\n",
    "                    results_dict[r][\"sim\"],\n",
    "                    results_dict[r][\"real\"],\n",
    "                    results_dict[r][\"g_done\"],\n",
    "                    results_dict[r][\"g_conc\"],\n",
    "                ]\n",
    "            )\n",
    "    df = pd.DataFrame(\n",
    "        rows,\n",
    "        columns=[\"Team\", \"Points\", \"Simulated\", \"Real\", \"Goals Done\", \"Goals Conceded\"],\n",
    "    )\n",
    "    return df\n",
    "\n",
    "\n",
    "def current_standings(teams, matches):\n",
    "    standing = {\n",
    "        t: {\"pts\": 0, \"played\": 0, \"g_done\": 0, \"g_conc\": 0} for t in teams\n",
    "    }\n",
    "    matches.sort(key=lambda x: x[0])\n",
    "\n",
    "    for match in matches:\n",
    "\n",
    "        turn, home, away, result = match\n",
    "\n",
    "        if result is None:\n",
    "            continue\n",
    "        goals_h, goals_a = [int(x) for x in result.split(\"-\")]\n",
    "\n",
    "        standing[home][\"played\"] += 1\n",
    "        standing[away][\"played\"] += 1\n",
    "\n",
    "        if goals_h > goals_a:\n",
    "            score1, score2 = 3, 0\n",
    "        elif goals_h == goals_a:\n",
    "            score1, score2 = 1, 1\n",
    "        else:\n",
    "            score1, score2 = 0, 3\n",
    "\n",
    "        standing[home][\"g_done\"] += goals_h\n",
    "        standing[home][\"g_conc\"] += goals_a\n",
    "        standing[away][\"g_done\"] += goals_a\n",
    "        standing[away][\"g_conc\"] += goals_h\n",
    "\n",
    "        standing[home][\"pts\"] += score1\n",
    "        standing[away][\"pts\"] += score2\n",
    "\n",
    "    df = pd.DataFrame(\n",
    "        [[t, *list(v.values())] for t, v in standing.items()],\n",
    "        columns=[\"Team\", \"Points\", \"Matches\", \"Goals Done\", \"Goals Conceded\"],\n",
    "    )\n",
    "    df = sort_standing(df)\n",
    "    df.set_index(\"Team\", inplace=True)\n",
    "    return df"
   ]
  },
  {
   "cell_type": "code",
   "execution_count": 50,
   "id": "6e97c128",
   "metadata": {},
   "outputs": [],
   "source": [
    "def aggregate_results(results):\n",
    "    agg_results = results.groupby(\"Team\").agg(\n",
    "        {\n",
    "            \"Points\": \"mean\",\n",
    "            \"Goals Done\": \"mean\",\n",
    "            \"Goals Conceded\": \"mean\",\n",
    "            \"Simulated\": \"max\",\n",
    "            \"Real\": \"max\",\n",
    "        }\n",
    "    )\n",
    "    agg_results = sort_standing(agg_results)\n",
    "    agg_results[\"Matches\"] = agg_results[\"Real\"] + agg_results[\"Simulated\"]\n",
    "    agg_results[\"Goals Diff\"] = (\n",
    "        agg_results[\"Goals Done\"] - agg_results[\"Goals Conceded\"]\n",
    "    )\n",
    "    agg_results = agg_results[\n",
    "        [\n",
    "            \"Points\",\n",
    "            \"Matches\",\n",
    "            \"Goals Diff\",\n",
    "            \"Goals Done\",\n",
    "            \"Goals Conceded\",\n",
    "            \"Simulated\",\n",
    "            \"Real\",\n",
    "        ]\n",
    "    ]\n",
    "    return agg_results\n",
    "\n",
    "\n",
    "def print_standings(results, hide_cols=None):\n",
    "    rows = []\n",
    "    if hide_cols is None:\n",
    "        hide_cols = []\n",
    "    for i, (t, pts, matches, g_done, g_conc) in enumerate(results):\n",
    "        pos = i + 1\n",
    "    \n",
    "        row = [pos, t, round(pts)]\n",
    "\n",
    "        if \"Matches\" not in hide_cols:\n",
    "            row.append(matches)\n",
    "        if \"Goals Done\" not in hide_cols:\n",
    "            row.append(g_done)\n",
    "        if \"Goals Conceded\" not in hide_cols:\n",
    "            row.append(g_conc)\n",
    "\n",
    "        row.append(\"#000\")\n",
    "\n",
    "        if pos >= 25:\n",
    "            row[-1] = \"#E3735E\"\n",
    "        elif i >= 8:\n",
    "            row[-1] = \"#FFBF00\"\n",
    "        rows.append(row)\n",
    "\n",
    "    content = \"\".join(\n",
    "        [\n",
    "            f\"<tr><td style='color:{row[-1]}'>{row[0]}</td>{''.join(['<td>'+str(r)+'</td>' for r in row[1:-1]])}</tr>\"\n",
    "            for row in rows\n",
    "        ]\n",
    "    )\n",
    "\n",
    "    cols = [c for c in [\"Pos\", \"Team\", \"Points\", \"Matches\", \"Goals Done\", \"Goals Conceded\"] if c not in hide_cols]\n",
    "    cols_content = \"\".join([f\"<th>{c}</th>\" for c in cols])\n",
    "    display(HTML(f\"<table>{cols_content}</tr>{content}</table>\"))"
   ]
  },
  {
   "cell_type": "code",
   "execution_count": 51,
   "id": "d09db155",
   "metadata": {},
   "outputs": [
    {
     "data": {
      "text/html": [
       "<table><th>Pos</th><th>Team</th><th>Points</th><th>Matches</th><th>Goals Done</th><th>Goals Conceded</th></tr><tr><td style='color:#000'>1</td><td>Inter</td><td>13</td><td>5</td><td>7</td><td>0</td></tr><tr><td style='color:#000'>2</td><td>Barcelona</td><td>12</td><td>5</td><td>18</td><td>5</td></tr><tr><td style='color:#000'>3</td><td>Liverpool</td><td>12</td><td>4</td><td>10</td><td>1</td></tr><tr><td style='color:#000'>4</td><td>Atalanta</td><td>11</td><td>5</td><td>11</td><td>1</td></tr><tr><td style='color:#000'>5</td><td>Bayer Leverkusen</td><td>10</td><td>5</td><td>11</td><td>5</td></tr><tr><td style='color:#000'>6</td><td>Monaco</td><td>10</td><td>4</td><td>10</td><td>4</td></tr><tr><td style='color:#000'>7</td><td>Sporting CP</td><td>10</td><td>5</td><td>10</td><td>7</td></tr><tr><td style='color:#000'>8</td><td>Brest</td><td>10</td><td>5</td><td>9</td><td>6</td></tr><tr><td style='color:#FFBF00'>9</td><td>Arsenal</td><td>10</td><td>5</td><td>8</td><td>2</td></tr><tr><td style='color:#FFBF00'>10</td><td>Borussia Dortmund</td><td>9</td><td>4</td><td>13</td><td>6</td></tr><tr><td style='color:#FFBF00'>11</td><td>Bayern Munich</td><td>9</td><td>5</td><td>12</td><td>7</td></tr><tr><td style='color:#FFBF00'>12</td><td>Atlético Madrid</td><td>9</td><td>5</td><td>11</td><td>9</td></tr><tr><td style='color:#FFBF00'>13</td><td>Milan</td><td>9</td><td>5</td><td>10</td><td>8</td></tr><tr><td style='color:#FFBF00'>14</td><td>Aston Villa</td><td>9</td><td>4</td><td>6</td><td>1</td></tr><tr><td style='color:#FFBF00'>15</td><td>Manchester City</td><td>8</td><td>5</td><td>13</td><td>7</td></tr><tr><td style='color:#FFBF00'>16</td><td>Dinamo Zagreb</td><td>7</td><td>4</td><td>10</td><td>12</td></tr><tr><td style='color:#FFBF00'>17</td><td>Feyenoord</td><td>7</td><td>5</td><td>10</td><td>13</td></tr><tr><td style='color:#FFBF00'>18</td><td>Celtic</td><td>7</td><td>4</td><td>9</td><td>9</td></tr><tr><td style='color:#FFBF00'>19</td><td>Juventus</td><td>7</td><td>4</td><td>7</td><td>5</td></tr><tr><td style='color:#FFBF00'>20</td><td>Lille</td><td>7</td><td>4</td><td>5</td><td>4</td></tr><tr><td style='color:#FFBF00'>21</td><td>Real Madrid</td><td>6</td><td>4</td><td>9</td><td>7</td></tr><tr><td style='color:#FFBF00'>22</td><td>Benfica</td><td>6</td><td>4</td><td>7</td><td>5</td></tr><tr><td style='color:#FFBF00'>23</td><td>Club Brugge</td><td>6</td><td>4</td><td>3</td><td>6</td></tr><tr><td style='color:#FFBF00'>24</td><td>PSV Eindhoven</td><td>5</td><td>4</td><td>7</td><td>5</td></tr><tr><td style='color:#E3735E'>25</td><td>Sparta Prague</td><td>4</td><td>5</td><td>5</td><td>14</td></tr><tr><td style='color:#E3735E'>26</td><td>Paris Saint-Germain</td><td>4</td><td>5</td><td>3</td><td>6</td></tr><tr><td style='color:#E3735E'>27</td><td>VfB Stuttgart</td><td>4</td><td>4</td><td>3</td><td>6</td></tr><tr><td style='color:#E3735E'>28</td><td>Shakhtar Donetsk</td><td>4</td><td>4</td><td>2</td><td>5</td></tr><tr><td style='color:#E3735E'>29</td><td>Girona</td><td>3</td><td>4</td><td>4</td><td>8</td></tr><tr><td style='color:#E3735E'>30</td><td>Red Bull Salzburg</td><td>3</td><td>5</td><td>3</td><td>15</td></tr><tr><td style='color:#E3735E'>31</td><td>Bologna</td><td>1</td><td>4</td><td>0</td><td>5</td></tr><tr><td style='color:#E3735E'>32</td><td>RB Leipzig</td><td>0</td><td>5</td><td>4</td><td>10</td></tr><tr><td style='color:#E3735E'>33</td><td>Red Star Belgrade</td><td>0</td><td>4</td><td>4</td><td>16</td></tr><tr><td style='color:#E3735E'>34</td><td>Slovan Bratislava</td><td>0</td><td>5</td><td>4</td><td>18</td></tr><tr><td style='color:#E3735E'>35</td><td>Young Boys</td><td>0</td><td>5</td><td>2</td><td>17</td></tr><tr><td style='color:#E3735E'>36</td><td>Sturm Graz</td><td>0</td><td>4</td><td>1</td><td>6</td></tr></table>"
      ],
      "text/plain": [
       "<IPython.core.display.HTML object>"
      ]
     },
     "metadata": {},
     "output_type": "display_data"
    }
   ],
   "source": [
    "current = current_standings(teams, matches)\n",
    "standing = current[['Points', 'Matches', 'Goals Done', 'Goals Conceded']].reset_index()\n",
    "print_standings(standing.values)\n",
    "# current"
   ]
  },
  {
   "cell_type": "code",
   "execution_count": 52,
   "id": "a7a45f11",
   "metadata": {},
   "outputs": [
    {
     "data": {
      "text/plain": [
       "[[5, 'Aston Villa', 'Juventus', None],\n",
       " [6, 'Juventus', 'Manchester City', None],\n",
       " [7, 'Club Brugge', 'Juventus', None],\n",
       " [8, 'Juventus', 'Benfica', None]]"
      ]
     },
     "execution_count": 52,
     "metadata": {},
     "output_type": "execute_result"
    }
   ],
   "source": [
    "focus = \"Juventus\"\n",
    "\n",
    "matches_to_play = [m for m in matches if m[-1] is None and (m[1] == focus or m[2] == focus)]\n",
    "matches_to_play.sort(key=lambda x: x[0])\n",
    "matches_to_play"
   ]
  },
  {
   "cell_type": "code",
   "execution_count": 53,
   "id": "bef1330e",
   "metadata": {},
   "outputs": [
    {
     "name": "stdout",
     "output_type": "stream",
     "text": [
      "Aston Villa 0.56 Juventus 0.44\n",
      "Juventus 0.53 Manchester City 0.47\n",
      "Club Brugge 0.46 Juventus 0.54\n",
      "Juventus 0.54 Benfica 0.46\n"
     ]
    }
   ],
   "source": [
    "p_fn = coeff_pper_match_factory(matches)\n",
    "\n",
    "for match in matches_to_play:\n",
    "    probs = p_fn(teams[match[1]], teams[match[2]])\n",
    "    print(match[1], round(probs[0], ndigits=2), match[2], round(probs[1], ndigits=2))"
   ]
  },
  {
   "cell_type": "code",
   "execution_count": 57,
   "id": "03452eb9",
   "metadata": {},
   "outputs": [
    {
     "name": "stderr",
     "output_type": "stream",
     "text": [
      "100%|██████████| 100000/100000 [02:30<00:00, 663.48it/s]\n"
     ]
    }
   ],
   "source": [
    "runs = 100_000\n",
    "\n",
    "\n",
    "results = simulate(runs, teams, matches, p_fn=coeff_pper_match_factory(matches))"
   ]
  },
  {
   "cell_type": "code",
   "execution_count": 58,
   "id": "d320a937",
   "metadata": {},
   "outputs": [],
   "source": [
    "agg_results = aggregate_results(results)\n",
    "# agg_results"
   ]
  },
  {
   "cell_type": "code",
   "execution_count": 59,
   "id": "586a9c3f",
   "metadata": {},
   "outputs": [
    {
     "data": {
      "text/html": [
       "<table><th>Pos</th><th>Team</th><th>Points</th></tr><tr><td style='color:#000'>1</td><td>Liverpool</td><td>21</td></tr><tr><td style='color:#000'>2</td><td>Inter</td><td>18</td></tr><tr><td style='color:#000'>3</td><td>Sporting CP</td><td>17</td></tr><tr><td style='color:#000'>4</td><td>Atalanta</td><td>17</td></tr><tr><td style='color:#000'>5</td><td>Borussia Dortmund</td><td>17</td></tr><tr><td style='color:#000'>6</td><td>Barcelona</td><td>17</td></tr><tr><td style='color:#000'>7</td><td>Aston Villa</td><td>16</td></tr><tr><td style='color:#000'>8</td><td>Monaco</td><td>16</td></tr><tr><td style='color:#FFBF00'>9</td><td>Brest</td><td>16</td></tr><tr><td style='color:#FFBF00'>10</td><td>Atlético Madrid</td><td>15</td></tr><tr><td style='color:#FFBF00'>11</td><td>Milan</td><td>15</td></tr><tr><td style='color:#FFBF00'>12</td><td>Bayern Munich</td><td>15</td></tr><tr><td style='color:#FFBF00'>13</td><td>Lille</td><td>15</td></tr><tr><td style='color:#FFBF00'>14</td><td>Arsenal</td><td>15</td></tr><tr><td style='color:#FFBF00'>15</td><td>Bayer Leverkusen</td><td>15</td></tr><tr><td style='color:#FFBF00'>16</td><td>VfB Stuttgart</td><td>14</td></tr><tr><td style='color:#FFBF00'>17</td><td>Celtic</td><td>14</td></tr><tr><td style='color:#FFBF00'>18</td><td>Manchester City</td><td>13</td></tr><tr><td style='color:#FFBF00'>19</td><td>Juventus</td><td>13</td></tr><tr><td style='color:#FFBF00'>20</td><td>Dinamo Zagreb</td><td>12</td></tr><tr><td style='color:#FFBF00'>21</td><td>Benfica</td><td>12</td></tr><tr><td style='color:#FFBF00'>22</td><td>Feyenoord</td><td>11</td></tr><tr><td style='color:#FFBF00'>23</td><td>PSV Eindhoven</td><td>11</td></tr><tr><td style='color:#FFBF00'>24</td><td>Club Brugge</td><td>11</td></tr><tr><td style='color:#E3735E'>25</td><td>Real Madrid</td><td>11</td></tr><tr><td style='color:#E3735E'>26</td><td>Shakhtar Donetsk</td><td>7</td></tr><tr><td style='color:#E3735E'>27</td><td>Girona</td><td>7</td></tr><tr><td style='color:#E3735E'>28</td><td>Paris Saint-Germain</td><td>7</td></tr><tr><td style='color:#E3735E'>29</td><td>Sparta Prague</td><td>6</td></tr><tr><td style='color:#E3735E'>30</td><td>Red Bull Salzburg</td><td>5</td></tr><tr><td style='color:#E3735E'>31</td><td>Bologna</td><td>2</td></tr><tr><td style='color:#E3735E'>32</td><td>Sturm Graz</td><td>2</td></tr><tr><td style='color:#E3735E'>33</td><td>Red Star Belgrade</td><td>2</td></tr><tr><td style='color:#E3735E'>34</td><td>Young Boys</td><td>1</td></tr><tr><td style='color:#E3735E'>35</td><td>RB Leipzig</td><td>1</td></tr><tr><td style='color:#E3735E'>36</td><td>Slovan Bratislava</td><td>0</td></tr></table>"
      ],
      "text/plain": [
       "<IPython.core.display.HTML object>"
      ]
     },
     "metadata": {},
     "output_type": "display_data"
    }
   ],
   "source": [
    "standing = agg_results[['Points', 'Matches', 'Goals Done', 'Goals Conceded']].reset_index()\n",
    "# print(standing)\n",
    "print_standings(standing.values, hide_cols=['Matches', 'Goals Done', 'Goals Conceded'])"
   ]
  },
  {
   "cell_type": "code",
   "execution_count": null,
   "id": "e5f01dfc",
   "metadata": {},
   "outputs": [],
   "source": []
  },
  {
   "cell_type": "code",
   "execution_count": null,
   "id": "45ca2fde",
   "metadata": {},
   "outputs": [],
   "source": []
  },
  {
   "cell_type": "code",
   "execution_count": null,
   "id": "369d147d",
   "metadata": {},
   "outputs": [],
   "source": []
  }
 ],
 "metadata": {
  "kernelspec": {
   "display_name": "Python 3 (ipykernel)",
   "language": "python",
   "name": "python3"
  },
  "language_info": {
   "codemirror_mode": {
    "name": "ipython",
    "version": 3
   },
   "file_extension": ".py",
   "mimetype": "text/x-python",
   "name": "python",
   "nbconvert_exporter": "python",
   "pygments_lexer": "ipython3",
   "version": "3.11.6"
  }
 },
 "nbformat": 4,
 "nbformat_minor": 5
}
