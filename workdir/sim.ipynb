{
 "cells": [
  {
   "cell_type": "code",
   "execution_count": 10,
   "id": "01a0605b-86ae-47bf-aa69-795cdd5f95fe",
   "metadata": {},
   "outputs": [],
   "source": [
    "import numpy as np\n",
    "import tqdm\n",
    "from IPython.display import HTML, display\n",
    "import json"
   ]
  },
  {
   "cell_type": "code",
   "execution_count": 48,
   "id": "c085cfd1",
   "metadata": {},
   "outputs": [
    {
     "name": "stdout",
     "output_type": "stream",
     "text": [
      "{'Real Madrid': {'nation': 'Spain', 'coefficient': 136.0, 'pot': 1}, 'Manchester City': {'nation': 'England', 'coefficient': 148.0, 'pot': 1}, 'Bayern Munich': {'nation': 'Germany', 'coefficient': 144.0, 'pot': 1}, 'Paris Saint-Germain': {'nation': 'France', 'coefficient': 116.0, 'pot': 1}, 'Liverpool': {'nation': 'England', 'coefficient': 114.0, 'pot': 1}, 'Inter': {'nation': 'Italy', 'coefficient': 101.0, 'pot': 1}, 'Borussia Dortmund': {'nation': 'Germany', 'coefficient': 97.0, 'pot': 1}, 'RB Leipzig': {'nation': 'Germany', 'coefficient': 97.0, 'pot': 1}, 'Barcelona': {'nation': 'Spain', 'coefficient': 91.0, 'pot': 1}, 'Bayer Leverkusen': {'nation': 'Germany', 'coefficient': 90.0, 'pot': 2}, 'Atlético Madrid': {'nation': 'Spain', 'coefficient': 89.0, 'pot': 2}, 'Atalanta': {'nation': 'Italy', 'coefficient': 81.0, 'pot': 2}, 'Juventus': {'nation': 'Italy', 'coefficient': 80.0, 'pot': 2}, 'Benfica': {'nation': 'Portugal', 'coefficient': 79.0, 'pot': 2}, 'Arsenal': {'nation': 'England', 'coefficient': 72.0, 'pot': 2}, 'Club Brugge': {'nation': 'Belgium', 'coefficient': 64.0, 'pot': 2}, 'Shakhtar Donetsk': {'nation': 'Ukraine', 'coefficient': 63.0, 'pot': 2}, 'Milan': {'nation': 'Italy', 'coefficient': 59.0, 'pot': 2}, 'Feyenoord': {'nation': 'Netherlands', 'coefficient': 57.0, 'pot': 3}, 'Sporting CP': {'nation': 'Portugal', 'coefficient': 54.5, 'pot': 3}, 'PSV Eindhoven': {'nation': 'Netherlands', 'coefficient': 54.0, 'pot': 3}, 'Dinamo Zagreb': {'nation': 'Croatia', 'coefficient': 50.0, 'pot': 3}, 'Red Bull Salzburg': {'nation': 'Austria', 'coefficient': 50.0, 'pot': 3}, 'Lille': {'nation': 'France', 'coefficient': 47.0, 'pot': 3}, 'Red Star Belgrade': {'nation': 'Serbia', 'coefficient': 40.0, 'pot': 3}, 'Young Boys': {'nation': 'Switzerland', 'coefficient': 34.5, 'pot': 3}, 'Celtic': {'nation': 'Scotland', 'coefficient': 32.0, 'pot': 3}, 'Slovan Bratislava': {'nation': 'Slovakia', 'coefficient': 30.5, 'pot': 4}, 'Monaco': {'nation': 'France', 'coefficient': 24.0, 'pot': 4}, 'Sparta Prague': {'nation': 'Czech Republic', 'coefficient': 22.5, 'pot': 4}, 'Aston Villa': {'nation': 'England', 'coefficient': 20.86, 'pot': 4}, 'Bologna': {'nation': 'Italy', 'coefficient': 18.056, 'pot': 4}, 'Girona': {'nation': 'Spain', 'coefficient': 17.897, 'pot': 4}, 'VfB Stuttgart': {'nation': 'Germany', 'coefficient': 17.324, 'pot': 4}, 'Sturm Graz': {'nation': 'Austria', 'coefficient': 14.5, 'pot': 4}, 'Brest': {'nation': 'France', 'coefficient': 13.366, 'pot': 4}}\n"
     ]
    }
   ],
   "source": [
    "teams = json.load(open('teams.json'))\n",
    "print(teams)"
   ]
  },
  {
   "cell_type": "code",
   "execution_count": 31,
   "id": "f2b4be19",
   "metadata": {},
   "outputs": [
    {
     "name": "stdout",
     "output_type": "stream",
     "text": [
      "Number of matches: 144\n",
      "[[3, 'Real Madrid', 'Borussia Dortmund', None], [4, 'Real Madrid', 'Milan', None], [7, 'Real Madrid', 'Red Bull Salzburg', None], [1, 'Real Madrid', 'VfB Stuttgart', '3-1']]\n"
     ]
    }
   ],
   "source": []
  },
  {
   "cell_type": "code",
   "execution_count": 63,
   "id": "94306d7f",
   "metadata": {},
   "outputs": [
    {
     "name": "stdout",
     "output_type": "stream",
     "text": [
      "Number of matches: 144\n"
     ]
    }
   ],
   "source": [
    "matches = json.load(open('matches.json'))\n",
    "\n",
    "print(f\"Number of matches: {len(matches)}\")\n",
    "\n",
    "for match in matches:\n",
    "    if len(match) != 4:\n",
    "        print(\"EERRROR\", match)\n",
    "\n",
    "for team in teams.keys():\n",
    "    home = []\n",
    "    away = []\n",
    "    for match in matches:\n",
    "        if team == match[1]:\n",
    "            home.append(match[0])\n",
    "        elif team == match[2]:\n",
    "            away.append(match[0])\n",
    "    if len(set(home)) != 4:\n",
    "        print(\"ERROR home\", team, home)\n",
    "\n",
    "    if len(set(away)) != 4:\n",
    "        print(\"ERROR away\", team, away)"
   ]
  },
  {
   "cell_type": "code",
   "execution_count": 64,
   "id": "48d8add6",
   "metadata": {},
   "outputs": [],
   "source": [
    "def coeff_based_prob(team1, team2):\n",
    "    team1_coef = team1[\"coefficient\"]\n",
    "    team2_coef = team2[\"coefficient\"]\n",
    "    p = [\n",
    "        team1_coef / (team1_coef + team2_coef),\n",
    "        1 / (team1_coef + team2_coef),\n",
    "        team2_coef / (team1_coef + team2_coef),\n",
    "    ]\n",
    "    p = [x / sum(p) for x in p]\n",
    "\n",
    "    return p"
   ]
  },
  {
   "cell_type": "code",
   "execution_count": 68,
   "id": "11a18e86",
   "metadata": {},
   "outputs": [],
   "source": [
    "def simulate_match(p=0.5):\n",
    "    result = np.random.choice([\"win\", \"draw\", \"lose\"], p=p)\n",
    "\n",
    "    if result == \"win\":\n",
    "        return 3, 0\n",
    "    elif result == \"draw\":\n",
    "        return 1, 1\n",
    "    else:\n",
    "        return 0, 3\n",
    "\n",
    "\n",
    "def simulate_matches(teams, matches, p_fn=coeff_based_prob):\n",
    "    classification = {t: 0 for t in teams}\n",
    "\n",
    "    for match in matches:\n",
    "        _, home, away, result = match\n",
    "        # print(home, away, result)\n",
    "\n",
    "        if result is None:\n",
    "            p = p_fn(teams[home], teams[away])\n",
    "            score1, score2 = simulate_match(p=p)\n",
    "        else:\n",
    "            h, a = [int(x) for x in result.split(\"-\")]\n",
    "            if h > a:\n",
    "                score1, score2 = 3, 0\n",
    "            elif h == a:\n",
    "                score1, score2 = 1, 1\n",
    "            else:\n",
    "                score1, score2 = 0, 3\n",
    "            # score1, score2 =\n",
    "        classification[home] += score1\n",
    "        classification[away] += score2\n",
    "    return classification\n",
    "\n",
    "\n",
    "def simulate(runs, teams, matches, p_fn=coeff_based_prob):\n",
    "    aggregate_results = {t: {\"avg\": None, \"top\": None, \"bottom\": None} for t in teams}\n",
    "\n",
    "    for i in tqdm.tqdm(range(runs)):\n",
    "        results_dict = simulate_matches(teams, matches, p_fn)\n",
    "\n",
    "        results = [(r, results_dict[r]) for r in results_dict]\n",
    "\n",
    "        results.sort(key=lambda x: x[1], reverse=True)\n",
    "        for i, (t, p) in enumerate(results):\n",
    "            if aggregate_results[t][\"avg\"] is None:\n",
    "                aggregate_results[t][\"avg\"] = p / runs\n",
    "            else:\n",
    "                aggregate_results[t][\"avg\"] += p / runs\n",
    "            if (\n",
    "                aggregate_results[t][\"top\"] is None\n",
    "                or i + 1 > aggregate_results[t][\"top\"]\n",
    "            ):\n",
    "                aggregate_results[t][\"top\"] = i + 1\n",
    "            if (\n",
    "                aggregate_results[t][\"bottom\"] is None\n",
    "                or i + 1 < aggregate_results[t][\"bottom\"]\n",
    "            ):\n",
    "                aggregate_results[t][\"bottom\"] = i + 1\n",
    "\n",
    "    results = [\n",
    "        (\n",
    "            t,\n",
    "            aggregate_results[t][\"avg\"],\n",
    "            aggregate_results[t][\"top\"],\n",
    "            aggregate_results[t][\"bottom\"],\n",
    "        )\n",
    "        for t in aggregate_results\n",
    "    ]\n",
    "\n",
    "    results.sort(key=lambda x: x[1], reverse=True)\n",
    "    return results"
   ]
  },
  {
   "cell_type": "code",
   "execution_count": 69,
   "id": "6e97c128",
   "metadata": {},
   "outputs": [],
   "source": [
    "def print_results(results):\n",
    "    rows = []\n",
    "    for i, (t, avg, worst, top) in enumerate(results):\n",
    "        pos = i + 1\n",
    "        row = [pos, t, round(avg), top, worst, \"#000\"]\n",
    "        # print(pos, t, f\"Media punti {round(avg)}\", f\"Miglior piazzamento {top}\", f\"Peggior piazzamento {bottom}\")\n",
    "\n",
    "        if pos >= 24:\n",
    "            row[-1] = \"#E3735E\"\n",
    "        elif i >= 8:\n",
    "            row[-1] = \"#FFBF00\"\n",
    "        rows.append(row)\n",
    "\n",
    "    content = \"\".join(\n",
    "        [f\"<tr ><td style='color:{row[-1]}'>{row[0]}</td><td>{row[1]}</td><td>{row[2]}</td><td>{row[3]}</td><td>{row[4]}</td></tr>\" for row in rows]\n",
    "    )   \n",
    "\n",
    "    display(\n",
    "        HTML(\n",
    "            f\"<table><tr><th>Pos</th><th>Team</th><th>Points</th><th>Best</th><th>Worst</th></tr>{content}</table>\"\n",
    "        )\n",
    "    )"
   ]
  },
  {
   "cell_type": "code",
   "execution_count": 70,
   "id": "03452eb9",
   "metadata": {},
   "outputs": [
    {
     "name": "stderr",
     "output_type": "stream",
     "text": [
      "  0%|          | 0/10000 [00:00<?, ?it/s]"
     ]
    },
    {
     "name": "stdout",
     "output_type": "stream",
     "text": [
      "Real Madrid Borussia Dortmund None\n"
     ]
    },
    {
     "name": "stderr",
     "output_type": "stream",
     "text": [
      "\n"
     ]
    },
    {
     "ename": "KeyError",
     "evalue": "3",
     "output_type": "error",
     "traceback": [
      "\u001b[0;31m---------------------------------------------------------------------------\u001b[0m",
      "\u001b[0;31mKeyError\u001b[0m                                  Traceback (most recent call last)",
      "Cell \u001b[0;32mIn[70], line 4\u001b[0m\n\u001b[1;32m      1\u001b[0m runs \u001b[38;5;241m=\u001b[39m \u001b[38;5;241m10_000\u001b[39m\n\u001b[0;32m----> 4\u001b[0m results \u001b[38;5;241m=\u001b[39m \u001b[43msimulate\u001b[49m\u001b[43m(\u001b[49m\u001b[43mruns\u001b[49m\u001b[43m,\u001b[49m\u001b[43m \u001b[49m\u001b[43mteams\u001b[49m\u001b[43m,\u001b[49m\u001b[43m \u001b[49m\u001b[43mmatches\u001b[49m\u001b[43m,\u001b[49m\u001b[43m \u001b[49m\u001b[43mp_fn\u001b[49m\u001b[38;5;241;43m=\u001b[39;49m\u001b[43mcoeff_based_prob\u001b[49m\u001b[43m)\u001b[49m\n",
      "Cell \u001b[0;32mIn[68], line 40\u001b[0m, in \u001b[0;36msimulate\u001b[0;34m(runs, teams, matches, p_fn)\u001b[0m\n\u001b[1;32m     37\u001b[0m aggregate_results \u001b[38;5;241m=\u001b[39m {t: {\u001b[38;5;124m\"\u001b[39m\u001b[38;5;124mavg\u001b[39m\u001b[38;5;124m\"\u001b[39m: \u001b[38;5;28;01mNone\u001b[39;00m, \u001b[38;5;124m\"\u001b[39m\u001b[38;5;124mtop\u001b[39m\u001b[38;5;124m\"\u001b[39m: \u001b[38;5;28;01mNone\u001b[39;00m, \u001b[38;5;124m\"\u001b[39m\u001b[38;5;124mbottom\u001b[39m\u001b[38;5;124m\"\u001b[39m: \u001b[38;5;28;01mNone\u001b[39;00m} \u001b[38;5;28;01mfor\u001b[39;00m t \u001b[38;5;129;01min\u001b[39;00m teams}\n\u001b[1;32m     39\u001b[0m \u001b[38;5;28;01mfor\u001b[39;00m i \u001b[38;5;129;01min\u001b[39;00m tqdm\u001b[38;5;241m.\u001b[39mtqdm(\u001b[38;5;28mrange\u001b[39m(runs)):\n\u001b[0;32m---> 40\u001b[0m     results_dict \u001b[38;5;241m=\u001b[39m \u001b[43msimulate_matches\u001b[49m\u001b[43m(\u001b[49m\u001b[43mteams\u001b[49m\u001b[43m,\u001b[49m\u001b[43m \u001b[49m\u001b[43mmatches\u001b[49m\u001b[43m,\u001b[49m\u001b[43m \u001b[49m\u001b[43mp_fn\u001b[49m\u001b[43m)\u001b[49m\n\u001b[1;32m     42\u001b[0m     results \u001b[38;5;241m=\u001b[39m [(r, results_dict[r]) \u001b[38;5;28;01mfor\u001b[39;00m r \u001b[38;5;129;01min\u001b[39;00m results_dict]\n\u001b[1;32m     44\u001b[0m     results\u001b[38;5;241m.\u001b[39msort(key\u001b[38;5;241m=\u001b[39m\u001b[38;5;28;01mlambda\u001b[39;00m x: x[\u001b[38;5;241m1\u001b[39m], reverse\u001b[38;5;241m=\u001b[39m\u001b[38;5;28;01mTrue\u001b[39;00m)\n",
      "Cell \u001b[0;32mIn[68], line 31\u001b[0m, in \u001b[0;36msimulate_matches\u001b[0;34m(teams, matches, p_fn)\u001b[0m\n\u001b[1;32m     29\u001b[0m             score1, score2 \u001b[38;5;241m=\u001b[39m \u001b[38;5;241m0\u001b[39m, \u001b[38;5;241m3\u001b[39m\n\u001b[1;32m     30\u001b[0m         \u001b[38;5;66;03m# score1, score2 =\u001b[39;00m\n\u001b[0;32m---> 31\u001b[0m     \u001b[43mclassification\u001b[49m\u001b[43m[\u001b[49m\u001b[43mmatch\u001b[49m\u001b[43m[\u001b[49m\u001b[38;5;241;43m0\u001b[39;49m\u001b[43m]\u001b[49m\u001b[43m]\u001b[49m \u001b[38;5;241m+\u001b[39m\u001b[38;5;241m=\u001b[39m score1\n\u001b[1;32m     32\u001b[0m     classification[match[\u001b[38;5;241m1\u001b[39m]] \u001b[38;5;241m+\u001b[39m\u001b[38;5;241m=\u001b[39m score2\n\u001b[1;32m     33\u001b[0m \u001b[38;5;28;01mreturn\u001b[39;00m classification\n",
      "\u001b[0;31mKeyError\u001b[0m: 3"
     ]
    }
   ],
   "source": [
    "runs = 10_000\n",
    "\n",
    "\n",
    "results = simulate(runs, teams, matches, p_fn=coeff_based_prob)"
   ]
  },
  {
   "cell_type": "code",
   "execution_count": 28,
   "id": "586a9c3f",
   "metadata": {},
   "outputs": [
    {
     "data": {
      "text/html": [
       "<table><tr><th>Pos</th><th>Team</th><th>Points</th><th>Best</th><th>Worst</th></tr><tr ><td style='color:#000'>1</td><td>Real Madrid</td><td>17</td><td>1</td><td>34</td></tr><tr ><td style='color:#000'>2</td><td>Bayern Munich</td><td>17</td><td>1</td><td>34</td></tr><tr ><td style='color:#000'>3</td><td>Manchester City</td><td>17</td><td>1</td><td>35</td></tr><tr ><td style='color:#000'>4</td><td>Liverpool</td><td>16</td><td>1</td><td>36</td></tr><tr ><td style='color:#000'>5</td><td>Borussia Dortmund</td><td>16</td><td>1</td><td>36</td></tr><tr ><td style='color:#000'>6</td><td>Paris Saint-Germain</td><td>16</td><td>1</td><td>36</td></tr><tr ><td style='color:#000'>7</td><td>Inter</td><td>15</td><td>1</td><td>35</td></tr><tr ><td style='color:#000'>8</td><td>RB Leipzig</td><td>15</td><td>1</td><td>36</td></tr><tr ><td style='color:#FFBF00'>9</td><td>Atalanta</td><td>15</td><td>1</td><td>36</td></tr><tr ><td style='color:#FFBF00'>10</td><td>Barcelona</td><td>15</td><td>1</td><td>36</td></tr><tr ><td style='color:#FFBF00'>11</td><td>Bayer Leverkusen</td><td>15</td><td>1</td><td>36</td></tr><tr ><td style='color:#FFBF00'>12</td><td>Atlético Madrid</td><td>14</td><td>1</td><td>36</td></tr><tr ><td style='color:#FFBF00'>13</td><td>Juventus</td><td>14</td><td>1</td><td>36</td></tr><tr ><td style='color:#FFBF00'>14</td><td>Benfica</td><td>14</td><td>1</td><td>36</td></tr><tr ><td style='color:#FFBF00'>15</td><td>Arsenal</td><td>14</td><td>1</td><td>36</td></tr><tr ><td style='color:#FFBF00'>16</td><td>Club Brugge</td><td>13</td><td>1</td><td>36</td></tr><tr ><td style='color:#FFBF00'>17</td><td>Shakhtar Donetsk</td><td>13</td><td>1</td><td>36</td></tr><tr ><td style='color:#FFBF00'>18</td><td>PSV Eindhoven</td><td>12</td><td>1</td><td>36</td></tr><tr ><td style='color:#FFBF00'>19</td><td>Sporting CP</td><td>12</td><td>1</td><td>36</td></tr><tr ><td style='color:#FFBF00'>20</td><td>Milan</td><td>12</td><td>1</td><td>36</td></tr><tr ><td style='color:#FFBF00'>21</td><td>Feyenoord</td><td>12</td><td>1</td><td>36</td></tr><tr ><td style='color:#FFBF00'>22</td><td>Dinamo Zagreb</td><td>12</td><td>1</td><td>36</td></tr><tr ><td style='color:#FFBF00'>23</td><td>Red Bull Salzburg</td><td>11</td><td>1</td><td>36</td></tr><tr ><td style='color:#E3735E'>24</td><td>Lille</td><td>11</td><td>1</td><td>36</td></tr><tr ><td style='color:#E3735E'>25</td><td>Red Star Belgrade</td><td>11</td><td>1</td><td>36</td></tr><tr ><td style='color:#E3735E'>26</td><td>Young Boys</td><td>10</td><td>1</td><td>36</td></tr><tr ><td style='color:#E3735E'>27</td><td>Celtic</td><td>9</td><td>1</td><td>36</td></tr><tr ><td style='color:#E3735E'>28</td><td>Slovan Bratislava</td><td>9</td><td>1</td><td>36</td></tr><tr ><td style='color:#E3735E'>29</td><td>Monaco</td><td>8</td><td>1</td><td>36</td></tr><tr ><td style='color:#E3735E'>30</td><td>Aston Villa</td><td>8</td><td>1</td><td>36</td></tr><tr ><td style='color:#E3735E'>31</td><td>Sparta Prague</td><td>8</td><td>2</td><td>36</td></tr><tr ><td style='color:#E3735E'>32</td><td>Bologna</td><td>6</td><td>1</td><td>36</td></tr><tr ><td style='color:#E3735E'>33</td><td>Girona</td><td>6</td><td>4</td><td>36</td></tr><tr ><td style='color:#E3735E'>34</td><td>VfB Stuttgart</td><td>6</td><td>2</td><td>36</td></tr><tr ><td style='color:#E3735E'>35</td><td>Sturm Graz</td><td>6</td><td>4</td><td>36</td></tr><tr ><td style='color:#E3735E'>36</td><td>Brest</td><td>5</td><td>2</td><td>36</td></tr></table>"
      ],
      "text/plain": [
       "<IPython.core.display.HTML object>"
      ]
     },
     "metadata": {},
     "output_type": "display_data"
    }
   ],
   "source": [
    "print_results(results)"
   ]
  },
  {
   "cell_type": "code",
   "execution_count": null,
   "id": "e5f01dfc",
   "metadata": {},
   "outputs": [],
   "source": []
  },
  {
   "cell_type": "code",
   "execution_count": null,
   "id": "45ca2fde",
   "metadata": {},
   "outputs": [],
   "source": []
  }
 ],
 "metadata": {
  "kernelspec": {
   "display_name": "Python 3 (ipykernel)",
   "language": "python",
   "name": "python3"
  },
  "language_info": {
   "codemirror_mode": {
    "name": "ipython",
    "version": 3
   },
   "file_extension": ".py",
   "mimetype": "text/x-python",
   "name": "python",
   "nbconvert_exporter": "python",
   "pygments_lexer": "ipython3",
   "version": "3.11.6"
  }
 },
 "nbformat": 4,
 "nbformat_minor": 5
}
